{
 "cells": [
  {
   "cell_type": "markdown",
   "metadata": {},
   "source": [
    "# MagicIndex "
   ]
  },
  {
   "cell_type": "markdown",
   "metadata": {},
   "source": [
    "A magic index in an array A[0... n-1] is defined to be an index such that A[i] = i. Given a sorted array of distinct integers, write a method to find a magic index, if one exists, in array A."
   ]
  },
  {
   "cell_type": "markdown",
   "metadata": {},
   "source": [
    "input = {-40, -20, -1, 1, 2, 3, 5, 7, 9, 12, 13};\n",
    "\n",
    "\n",
    "output = 7; // as the index in position 7, is 7."
   ]
  },
  {
   "cell_type": "code",
   "execution_count": null,
   "metadata": {},
   "outputs": [],
   "source": [
    "#for distinct values\n",
    "int findMagicIndex( int[] A , int begin , int end )\n",
    "{\n",
    "    if( begin > end )  {   return -1;  }\n",
    "    \n",
    "    mid= (begin + end ) / 2 ; \n",
    "    \n",
    "    if( mid == A[mid] )  {  return mid; }\n",
    "    else if ( mid < A[mid] )\n",
    "    {\n",
    "        return findMagicIndex(A, begin, mid-1 );\n",
    "    }\n",
    "    else\n",
    "    {\n",
    "        return findMagicIndex(A,  mid+1 , end );\n",
    "    }\n",
    "}"
   ]
  },
  {
   "cell_type": "markdown",
   "metadata": {},
   "source": [
    " Input: arr[] = {-10, -5, 2, 2, 2, 3, 4, 7, 9, 12, 13}\n",
    " \n",
    " \n",
    " Output: 2  // arr[2] == 2 \n"
   ]
  },
  {
   "cell_type": "code",
   "execution_count": null,
   "metadata": {},
   "outputs": [],
   "source": [
    "# // for not distinct values\n",
    "int magicIndex(int* arr, int start, int end)\n",
    "{\n",
    "    ## If No Magic Index return -1;\n",
    "    if (start > end)\n",
    "        return -1;\n",
    " \n",
    "    int midIndex = (start + end) / 2;\n",
    "    int midValue = arr[midIndex];\n",
    " \n",
    "    # // Magic Index Found, return it.\n",
    "    if (midIndex == midValue)\n",
    "        return midIndex;\n",
    " \n",
    "    # // Search on Left side\n",
    "    int left = magicIndex(arr, start, min(midValue,midIndex - 1));\n",
    " \n",
    "    # // If Found on left side, return.\n",
    "    if (left >= 0)\n",
    "        return left;\n",
    " \n",
    "    # // Return ans from right side.\n",
    "    return magicIndex(arr, max(midValue, midIndex + 1),end);\n",
    "}"
   ]
  },
  {
   "cell_type": "markdown",
   "metadata": {},
   "source": [
    "# Power Set\n",
    "Write a method to return all subsets of a set.\n",
    "\n",
    "78.    https://leetcode.com/problems/subsets/"
   ]
  },
  {
   "cell_type": "code",
   "execution_count": null,
   "metadata": {},
   "outputs": [],
   "source": [
    "#// In the array A at every step we have two\n",
    "#// choices for each element either  we can\n",
    "#// ignore the element or we can include the\n",
    "#// element in our subset\n",
    "void subsetsUtil(vector<int>& A, vector<vector<int> >& res,\n",
    "                 vector<int>& subset, int index)\n",
    "{\n",
    "    res.push_back(subset);\n",
    "    for (int i = index; i < A.size(); i++) {\n",
    "  \n",
    "        #// include the A[i] in subset.\n",
    "        subset.push_back(A[i]);\n",
    "  \n",
    "        #// move onto the next element.\n",
    "        subsetsUtil(A, res, subset, i + 1);\n",
    "  \n",
    "        #// exclude the A[i] from subset and triggers\n",
    "        #// backtracking.\n",
    "        subset.pop_back();\n",
    "    }\n",
    "  \n",
    "    return;\n",
    "}\n",
    "  \n",
    "#// below function returns the subsets of vector A.\n",
    "vector<vector<int> > subsets(vector<int>& A)\n",
    "{\n",
    "    vector<int> subset;\n",
    "    vector<vector<int> > res;\n",
    "  \n",
    "    #// keeps track of current element in vector A;\n",
    "    int index = 0;\n",
    "    subsetsUtil(A, res, subset, index);\n",
    "  \n",
    "    return res;\n",
    "}"
   ]
  },
  {
   "cell_type": "code",
   "execution_count": null,
   "metadata": {},
   "outputs": [],
   "source": [
    "#leet code solution\n",
    "class Solution {\n",
    "public:\n",
    "    \n",
    "    vector<vector<int>> findres(vector<int>& nums, vector<vector<int>>& result , int index ,vector<int> subset)\n",
    "    {\n",
    "        result.push_back(subset);\n",
    "        \n",
    "        \n",
    "        for(int i=index ; i< nums.size() ; i++ )\n",
    "        {\n",
    "            #//left subtree (choose to add )\n",
    "            subset.push_back(nums[i]);\n",
    "            \n",
    "            #//recursive call ----- REMEMBER THIS LINE--- DONT FORGET TO RECURSIVELY SOLVE\n",
    "            findres(nums,result,i+1,subset);\n",
    "            \n",
    "            #//right subtree ( choose to not add) ---- backtracking\n",
    "            subset.pop_back();\n",
    "        }\n",
    "        return result;\n",
    "    }\n",
    "    \n",
    "    \n",
    "    vector<vector<int>> subsets(vector<int>& nums) {\n",
    "        vector<vector<int>> result,res;\n",
    "        int index=0;\n",
    "        vector<int> subset;\n",
    "        res= findres(nums,result,index,subset);\n",
    "        return res;\n",
    "    }\n",
    "};"
   ]
  },
  {
   "cell_type": "markdown",
   "metadata": {},
   "source": [
    "# Multiplying using recursion \n",
    "Write a recursive function to multiply two positive integers without using the *operator.You can use addition, subtraction, and bit shifting, but you should minimize the numberof those operations"
   ]
  },
  {
   "cell_type": "code",
   "execution_count": null,
   "metadata": {},
   "outputs": [],
   "source": [
    "int multiply(int a, int b) \n",
    "{\n",
    "    if (b > 0) {\n",
    "        return a + multiply(a, b - 1);\n",
    "    }\n",
    "    else if (b < 0) {\n",
    "        return -a + multiply(a, b + 1);\n",
    "    }\n",
    "    return 0;\n",
    "}\n"
   ]
  },
  {
   "cell_type": "markdown",
   "metadata": {},
   "source": [
    "# Multiplying Strings \n",
    "Given two non-negative integers num1 and num2 represented as strings, return the product of num1 and num2, also represented as a string.\n",
    "\n",
    "43. https://leetcode.com/problems/multiply-strings/"
   ]
  },
  {
   "cell_type": "code",
   "execution_count": null,
   "metadata": {},
   "outputs": [],
   "source": [
    "string multiply(string num1, string num2) \n",
    "{\n",
    "        if (num1 == \"0\" || num2 == \"0\") return \"0\";\n",
    "        \n",
    "        vector<int> res(num1.size()+num2.size(), 0);\n",
    "        \n",
    "        for (int i = num1.size()-1; i >= 0; i--) {\n",
    "            for (int j = num2.size()-1; j >= 0; j--) {\n",
    "                res[i + j + 1] += (num1[i]-'0') * (num2[j]-'0');\n",
    "                res[i + j] += res[i + j + 1] / 10;\n",
    "                res[i + j + 1] %= 10;\n",
    "            }\n",
    "        }\n",
    "        \n",
    "        int i = 0;\n",
    "        string ans = \"\";\n",
    "        while (res[i] == 0) i++;\n",
    "        while (i < res.size()) ans += to_string(res[i++]);\n",
    "        \n",
    "        return ans;\n",
    "    }"
   ]
  }
 ],
 "metadata": {
  "kernelspec": {
   "display_name": "Python 3",
   "language": "python",
   "name": "python3"
  },
  "language_info": {
   "codemirror_mode": {
    "name": "ipython",
    "version": 3
   },
   "file_extension": ".py",
   "mimetype": "text/x-python",
   "name": "python",
   "nbconvert_exporter": "python",
   "pygments_lexer": "ipython3",
   "version": "3.8.3"
  }
 },
 "nbformat": 4,
 "nbformat_minor": 4
}
